{
 "cells": [
  {
   "cell_type": "code",
   "execution_count": 2,
   "metadata": {},
   "outputs": [
    {
     "name": "stdout",
     "output_type": "stream",
     "text": [
      "Collecting opencv-python\n",
      "  Downloading opencv_python-4.7.0.72-cp37-abi3-win_amd64.whl (38.2 MB)\n",
      "     ---------------------------------------- 38.2/38.2 MB 1.1 MB/s eta 0:00:00\n",
      "Requirement already satisfied: numpy>=1.17.3 in c:\\users\\frieb\\anaconda3\\envs\\wzl-mlmodels-p3.9_2\\lib\\site-packages (from opencv-python) (1.24.0)\n",
      "Installing collected packages: opencv-python\n",
      "Successfully installed opencv-python-4.7.0.72\n"
     ]
    }
   ],
   "source": [
    "!pip install opencv-python"
   ]
  },
  {
   "cell_type": "code",
   "execution_count": 28,
   "metadata": {
    "id": "Rzlg7O2Q1E7P"
   },
   "outputs": [],
   "source": [
    "from torch.utils.data import Dataset, DataLoader\n",
    "from torchvision.datasets import ImageFolder\n",
    "from torchvision import transforms\n",
    "\n",
    "from PIL import Image\n",
    "\n",
    "import cv2\n",
    "\n",
    "import torch\n",
    "import torch.nn as nn\n",
    "import torch.nn.functional as F\n",
    "import pandas as pd\n",
    "import re\n",
    "import os\n",
    "import numpy as np\n",
    "\n",
    "from sklearn.metrics import f1_score\n",
    "from sklearn.metrics import confusion_matrix\n",
    "\n",
    "import matplotlib.pyplot as plt\n",
    "import math"
   ]
  },
  {
   "cell_type": "code",
   "execution_count": 8,
   "metadata": {
    "colab": {
     "base_uri": "https://localhost:8080/"
    },
    "id": "NSjAiHWs1IJb",
    "outputId": "e856b3d9-5d7a-46d9-d09a-0b166f021888"
   },
   "outputs": [
    {
     "name": "stdout",
     "output_type": "stream",
     "text": [
      "GPU\n"
     ]
    }
   ],
   "source": [
    "\n",
    "if torch.cuda.is_available():\n",
    "  device = torch.device(\"cuda:0\")\n",
    "  print(\"GPU\")\n",
    "else:\n",
    "  device = torch.device(\"cpu\")\n",
    "  print(\"CPU\")"
   ]
  },
  {
   "cell_type": "code",
   "execution_count": 9,
   "metadata": {
    "id": "Itzdosct1UPp"
   },
   "outputs": [],
   "source": [
    "#!unzip \"/content/drive/MyDrive/Driver Drowsiness Dataset (DDD).zip\" -d \"/content/drive/MyDrive/newdata/\""
   ]
  },
  {
   "cell_type": "code",
   "execution_count": 11,
   "metadata": {
    "id": "sFGa4k8w1e69"
   },
   "outputs": [
    {
     "name": "stdout",
     "output_type": "stream",
     "text": [
      "df\n",
      "(41793, 4)\n",
      "dfTest\n",
      "(3514, 4)\n",
      "dfWithout\n",
      "(38279, 4)\n",
      "testTO\n",
      "(3514, 2)\n"
     ]
    }
   ],
   "source": [
    "# Add image paths, labels, file names and person IDs into lists\n",
    "image_path, label, file_name, person_ID = [], [], [], []\n",
    "\n",
    "pattern = re.compile(r'^[a-zA-Z][a-zA-Z]?') #identification criteria of participant\n",
    "\n",
    "#data_dir = r\"C:\\Users\\frieb\\Desktop\\My_Docs\\RWTH\\Techlab\\DDD_Project\\Driver_Drowsiness_Dataset_(DDD)\"\n",
    "\n",
    "path = os.getcwd()\n",
    "data_dir = path + str('/Driver Drowsiness Dataset (DDD)/')\n",
    "\n",
    "for class_name in os.listdir(data_dir):  #goes through all folders in DDD folder\n",
    "  for path in os.listdir(os.path.join(data_dir, class_name)):  #goes through all files in both folders and updates file path and labels\n",
    "    if class_name == 'Drowsy':\n",
    "      label.append(0)\n",
    "    else:\n",
    "      label.append(1)\n",
    "    image_path.append(os.path.join(data_dir, class_name, path))\n",
    "    file_name.append(path)\n",
    "\n",
    "    person_ID.append(pattern.findall(path)[0])  #identification of participant\n",
    "\n",
    "\n",
    "#dataframe with path, label, file name, person_ID of all Persons\n",
    "df = pd.DataFrame()\n",
    "df['images'] = image_path\n",
    "df['label'] = label\n",
    "df['name'] = file_name\n",
    "df['person'] = person_ID\n",
    "\n",
    "print('df')\n",
    "print(df.shape)\n",
    "\n",
    "\n",
    "#add Person E and G only to the Test Dataset\n",
    "dfTest = pd.concat([df[df['person']=='e'], df[df['person']=='g'], df[df['person']=='E'], df[df['person']=='G'], df[df['person']=='S'], df[df['person']=='s']])\n",
    "print('dfTest')\n",
    "print(dfTest.shape)\n",
    "\n",
    "\n",
    "#remove Person E and G from the dataset with all Persons\n",
    "dfWithout = df\n",
    "dfWithout = dfWithout.drop(index=(df[df['person']=='e'].index))\n",
    "dfWithout = dfWithout.drop(index=(df[df['person']=='E'].index))\n",
    "dfWithout = dfWithout.drop(index=(df[df['person']=='g'].index))\n",
    "dfWithout = dfWithout.drop(index=(df[df['person']=='G'].index))\n",
    "\n",
    "dfWithout = dfWithout.drop(index=(df[df['person']=='s'].index))\n",
    "dfWithout = dfWithout.drop(index=(df[df['person']=='S'].index))\n",
    "\n",
    "print('dfWithout')\n",
    "print(dfWithout.shape)\n",
    "\n",
    "\n",
    "#converting imagepath and label of takeout persons G, E into an nparray\n",
    "imagePathTakeout = dfTest['images']\n",
    "labelTakeout = dfTest['label']\n",
    "\n",
    "imagePathTO = np.array(imagePathTakeout).reshape([-1,1])\n",
    "labelTO = np.array(labelTakeout).reshape([-1,1])\n",
    "testTO = np.hstack((imagePathTO, labelTO))\n",
    "\n",
    "print('testTO')\n",
    "print(testTO.shape)\n",
    "\n",
    "\n",
    "#converting imagepath and label of all other persons into an nparray\n",
    "imagePathWithout = dfWithout['images']\n",
    "labelWithout = dfWithout['label']\n",
    "\n",
    "image_path = np.array(imagePathWithout).reshape([-1,1])\n",
    "label = np.array(labelWithout).reshape([-1,1])\n",
    "comp_data = np.hstack((image_path, label))"
   ]
  },
  {
   "cell_type": "code",
   "execution_count": 12,
   "metadata": {
    "id": "bsH9As_U1fsg"
   },
   "outputs": [
    {
     "name": "stdout",
     "output_type": "stream",
     "text": [
      "[['/rwthfs/rz/cluster/home/ko617013/techlabs/Driver Drowsiness Dataset (DDD)/Non Drowsy/e0288.png'\n",
      "  1]\n",
      " ['/rwthfs/rz/cluster/home/ko617013/techlabs/Driver Drowsiness Dataset (DDD)/Non Drowsy/e0930.png'\n",
      "  1]\n",
      " ['/rwthfs/rz/cluster/home/ko617013/techlabs/Driver Drowsiness Dataset (DDD)/Non Drowsy/e0399.png'\n",
      "  1]\n",
      " ...\n",
      " ['/rwthfs/rz/cluster/home/ko617013/techlabs/Driver Drowsiness Dataset (DDD)/Non Drowsy/s0040.png'\n",
      "  1]\n",
      " ['/rwthfs/rz/cluster/home/ko617013/techlabs/Driver Drowsiness Dataset (DDD)/Non Drowsy/s0331.png'\n",
      "  1]\n",
      " ['/rwthfs/rz/cluster/home/ko617013/techlabs/Driver Drowsiness Dataset (DDD)/Non Drowsy/s0266.png'\n",
      "  1]]\n"
     ]
    }
   ],
   "source": [
    "\n",
    "\n",
    "print(testTO)\n",
    "     \n"
   ]
  },
  {
   "cell_type": "code",
   "execution_count": 13,
   "metadata": {
    "id": "c1VHYWqc1iBx"
   },
   "outputs": [
    {
     "data": {
      "text/plain": [
       "person\n",
       "A     1411\n",
       "B      315\n",
       "C      335\n",
       "D      179\n",
       "E      962\n",
       "F      415\n",
       "G      499\n",
       "H      508\n",
       "I     1095\n",
       "J      474\n",
       "K      630\n",
       "L      732\n",
       "M      777\n",
       "N     1156\n",
       "O     1097\n",
       "P      963\n",
       "Q      562\n",
       "R      204\n",
       "S      487\n",
       "T      933\n",
       "U      420\n",
       "V      653\n",
       "W     1162\n",
       "X     1749\n",
       "Y     1112\n",
       "ZA     621\n",
       "ZB    1551\n",
       "ZC    1346\n",
       "a     1252\n",
       "b      409\n",
       "c      400\n",
       "d     1005\n",
       "e     1000\n",
       "g      109\n",
       "h      571\n",
       "i     1045\n",
       "j      717\n",
       "k      538\n",
       "l      381\n",
       "m      473\n",
       "n      957\n",
       "o      671\n",
       "p      190\n",
       "q      521\n",
       "r      522\n",
       "s      457\n",
       "u      510\n",
       "v     1002\n",
       "w      493\n",
       "x     1143\n",
       "y     1500\n",
       "za    1054\n",
       "zb    1237\n",
       "zc    1288\n",
       "dtype: int64"
      ]
     },
     "execution_count": 13,
     "metadata": {},
     "output_type": "execute_result"
    }
   ],
   "source": [
    "\n",
    "\n",
    "df.groupby(\"person\").size()\n",
    "     \n"
   ]
  },
  {
   "cell_type": "code",
   "execution_count": 14,
   "metadata": {
    "id": "cCu1CDIQ1j1V"
   },
   "outputs": [
    {
     "name": "stdout",
     "output_type": "stream",
     "text": [
      "trainW\n",
      "(30623, 2)\n",
      "testW\n",
      "(7656, 2)\n",
      "test\n",
      "(11170, 2)\n",
      "[['/rwthfs/rz/cluster/home/ko617013/techlabs/Driver Drowsiness Dataset (DDD)/Drowsy/A1001.png'\n",
      "  0]\n",
      " ['/rwthfs/rz/cluster/home/ko617013/techlabs/Driver Drowsiness Dataset (DDD)/Non Drowsy/za0757.png'\n",
      "  1]\n",
      " ['/rwthfs/rz/cluster/home/ko617013/techlabs/Driver Drowsiness Dataset (DDD)/Non Drowsy/y1428.png'\n",
      "  1]\n",
      " ...\n",
      " ['/rwthfs/rz/cluster/home/ko617013/techlabs/Driver Drowsiness Dataset (DDD)/Drowsy/O1375.png'\n",
      "  0]\n",
      " ['/rwthfs/rz/cluster/home/ko617013/techlabs/Driver Drowsiness Dataset (DDD)/Drowsy/A1339.png'\n",
      "  0]\n",
      " ['/rwthfs/rz/cluster/home/ko617013/techlabs/Driver Drowsiness Dataset (DDD)/Drowsy/W0637.png'\n",
      "  0]]\n"
     ]
    }
   ],
   "source": [
    "from sklearn.model_selection import train_test_split\n",
    "\n",
    "#nparray with all other persons (except of E, G) gets split into train and test dataset\n",
    "trainW, testW = train_test_split(comp_data, test_size=0.2, random_state=1234)\n",
    "print('trainW')\n",
    "print(trainW.shape)\n",
    "\n",
    "print('testW')\n",
    "print(testW.shape)\n",
    "\n",
    "\n",
    "#train dataset\n",
    "train = trainW\n",
    "\n",
    "\n",
    "#test dataset is a combination of the takeout of person E, G and the part that was split to test via train_test_split\n",
    "test = np.concatenate((testTO, testW))\n",
    "\n",
    "\n",
    "print('test')\n",
    "print(test.shape)\n",
    "print(train)"
   ]
  },
  {
   "cell_type": "code",
   "execution_count": 15,
   "metadata": {},
   "outputs": [],
   "source": [
    "## https://github.com/zekeriyafince/EyePair/blob/master/haar-cascade/haarcascades_haarcascade_mcs_eyepair_big.xml\n",
    "face_cascade = cv2.CascadeClassifier(cv2.data.haarcascades + 'haarcascade_frontalface_default.xml') # face \n",
    "\n",
    "## https://github.com/zekeriyafince/EyePair/blob/master/haar-cascade/haarcascade_frontalface_default.xml\n",
    "eyePair_cascade = cv2.CascadeClassifier(cv2.data.haarcascades + 'haarcascade_eye.xml') #eye_pair\n",
    "\n",
    "defaultPicture = np.zeros((60,150,1)) # black picture\n",
    "c=0\n",
    "\n",
    "def ReturnEyePairFunc(frameImage):\n",
    "    #print(\"here\")\n",
    "    gray = cv2.cvtColor(frameImage, cv2.COLOR_BGR2GRAY)\n",
    "    faces = face_cascade.detectMultiScale(gray, 1.3, 1)\n",
    "    #print(\"gray\", gray.shape)\n",
    "\n",
    "\n",
    "    for x, y, w, h in faces: # face points\n",
    "        roiGray = gray[y:y + h, x:x + w]\n",
    "        roiColor = frameImage[y:y + h, x:x + w]\n",
    "        eyePairs = eyePair_cascade.detectMultiScale(roiGray)\n",
    "\n",
    "        if(len(eyePairs)==2):\n",
    "        \n",
    "            ex1,ey1,ew1,eh1 = eyePairs[0][0],eyePairs[0][1],eyePairs[0][2],eyePairs[0][3]\n",
    "            ex2,ey2,ew2,eh2 = eyePairs[1][0],eyePairs[1][1],eyePairs[1][2],eyePairs[1][3]\n",
    "\n",
    "            ex_min = min(ex1, ex2)\n",
    "            ex_max = max(ex1, ex2)\n",
    "            ey_min = min(ey1, ey2)\n",
    "            ey_max = max(ey1, ey2)\n",
    "            ew_max = max(ew1, ew2)\n",
    "            eh_max = max(eh1, eh2)\n",
    "            #print(ex1,ey1,ew1,eh1)\n",
    "            #print(ex2,ey2,ew2,eh2)\n",
    "            roiEyes = roiGray[ ey_min: ey_max + eh_max, ex_min:ex_max + ew_max ]\n",
    "            #print(\"roiEyes\", roiEyes.shape)\n",
    "            \n",
    "            #plt.imshow(roiEyes)\n",
    "\n",
    "            return roiEyes\n",
    "    #c=c+1\n",
    "    return defaultPicture"
   ]
  },
  {
   "cell_type": "code",
   "execution_count": 16,
   "metadata": {
    "id": "H6WoJ6ET1mFK"
   },
   "outputs": [],
   "source": [
    "class DDDdataset(Dataset):\n",
    "\n",
    "\n",
    "\n",
    "\n",
    "  def __init__(self, image_paths, image_labels, transform):\n",
    "    super().__init__()\n",
    "    self.paths = image_paths\n",
    "    self.labels = image_labels\n",
    "    self.len = len(self.paths)\n",
    "    self.transform = transform\n",
    "  \n",
    "  def __len__(self): return self.len\n",
    "  \n",
    "  def __getitem__(self, index):\n",
    "    path = self.paths[index]\n",
    "    label = self.labels[index]\n",
    "    target_tensor=torch.from_numpy(np.array(label,dtype=np.int16))\n",
    "    #image = Image.open(path).convert('RGB')\n",
    "    image = cv2.imread(path,cv2.IMREAD_UNCHANGED)\n",
    "    #image = cv2.cvtColor(image, cv2.COLOR_BGR2RGB)\n",
    "    #print(\"1\", image.shape)\n",
    "    image = ReturnEyePairFunc(image)\n",
    "    #print(\"2\", image.shape)\n",
    "    image = self.transform(image)\n",
    "    #print(\"3\",image.shape)\n",
    "    #image = image.reshape((image.shape[1], image.shape[2], -1))\n",
    "    #print(\"4\",image.shape)\n",
    "    #plt.imshow(image)\n",
    "    #cv2.waitKey(0)\n",
    "    #cv2.destroyAllWindows()\n",
    "    return (image, target_tensor, path)\n",
    "  \n",
    "\n",
    "\n",
    "\n",
    " "
   ]
  },
  {
   "cell_type": "code",
   "execution_count": 17,
   "metadata": {},
   "outputs": [],
   "source": [
    "# path = df['images'][index]\n",
    "# label = df['label'][index]\n",
    "# target_tensor=torch.from_numpy(np.array(label,dtype=np.int16))\n",
    "# #image = Image.open(path).convert('RGB')\n",
    "# image = cv2.imread(path,cv2.IMREAD_UNCHANGED)\n",
    "# #image = cv2.cvtColor(image, cv2.COLOR_BGR2RGB)\n",
    "# #print(\"1\", image.shape)\n",
    "# image = ReturnEyePairFunc(image)\n",
    "# #print(\"2\", image.shape)\n",
    "# image = transformation(image)\n",
    "# #print(\"3\",image.shape)\n",
    "# image = image.reshape((image.shape[1], image.shape[2], -1))\n",
    "# #print(\"4\",image.shape)\n",
    "# plt.imshow(image)\n",
    "# #cv2.waitKey(0)\n",
    "# #cv2.destroyAllWindows()\n",
    "# return (image, target_tensor, path)"
   ]
  },
  {
   "cell_type": "code",
   "execution_count": 18,
   "metadata": {
    "id": "136_MxA11tkb"
   },
   "outputs": [],
   "source": [
    "meanR = 0.006185\n",
    "meanG = 0.006140\n",
    "meanB = 0.006088\n",
    "stdR = 0.06234\n",
    "stdG = 0.06194\n",
    "stdB = 0.06151"
   ]
  },
  {
   "cell_type": "code",
   "execution_count": 19,
   "metadata": {
    "id": "6mj8MX1Y1v4u"
   },
   "outputs": [
    {
     "name": "stdout",
     "output_type": "stream",
     "text": [
      "tensor(0.1527, dtype=torch.float64) tensor(0.2228, dtype=torch.float64)\n"
     ]
    }
   ],
   "source": [
    "#transformation for model training and testing\n",
    "transformation_1 = transforms.Compose([\n",
    "    transforms.ToTensor(),\n",
    "    #transforms.Normalize(mean=[meanR, meanG, meanB], std=[stdR, stdG, stdB])\n",
    "    transforms.Resize((60, 150)),\n",
    "    #transforms.Normalize(mean=[meanR], std=[stdR])\n",
    "])\n",
    "\n",
    "\n",
    "\n",
    "#datasets and dataloaders for model training and testing\n",
    "trainDataset = DDDdataset(train[:,0], train[:,-1], transformation_1)\n",
    "#testDataset = DDDdataset(test[:,0], test[:,-1], transformation_1)\n",
    "\n",
    "trainDataLoader = DataLoader(trainDataset, batch_size=len(trainDataset), num_workers = 8) #, shuffle=True)\n",
    "#testDataLoader = DataLoader(testDataset, batch_size=64, shuffle=True)\n",
    "\n",
    "data = next(iter(trainDataLoader))\n",
    "\n",
    "print(data[0].mean(), data[0].std())\n",
    "\n",
    "#batch_idx, (data, target) = next(enumerate(trainDataLoader))"
   ]
  },
  {
   "cell_type": "code",
   "execution_count": null,
   "metadata": {},
   "outputs": [],
   "source": [
    "mean = 0.1520\n",
    "std = 0.2226"
   ]
  },
  {
   "cell_type": "code",
   "execution_count": null,
   "metadata": {},
   "outputs": [],
   "source": [
    "#transformation for model training and testing\n",
    "transformation_2 = transforms.Compose([\n",
    "    transforms.ToTensor(),\n",
    "    #transforms.Normalize(mean=[meanR, meanG, meanB], std=[stdR, stdG, stdB])\n",
    "    transforms.Resize((60, 150)),\n",
    "    transforms.Normalize(mean=mean, std=std)\n",
    "])\n",
    "\n",
    "\n",
    "\n",
    "#datasets and dataloaders for model training and testing\n",
    "trainDataset = DDDdataset(train[:,0], train[:,-1], transformation_2)\n",
    "testDataset = DDDdataset(test[:,0], test[:,-1], transformation_2)\n",
    "\n",
    "trainDataLoader = DataLoader(trainDataset, batch_size=64, shuffle=True, num_workers = 8)\n",
    "testDataLoader = DataLoader(testDataset, batch_size=64, shuffle=True, num_workers = 8)\n",
    "\n",
    "\n",
    "\n",
    "#batch_idx, (data, target) = next(enumerate(trainDataLoader))"
   ]
  },
  {
   "cell_type": "code",
   "execution_count": 22,
   "metadata": {
    "id": "ZBgfaAOv1yA4"
   },
   "outputs": [
    {
     "data": {
      "text/plain": [
       "'\\n--------------------------------\\nnumber of parameters CNN below\\n\\n(II) f*f*ch_in*ch_out + ch_out_bias = params_conv_layer\\n\\n(III) numberOfInputImageElements*outputFeaturesCurrentFCLayer = params_fully_connected\\n\\nconv1: 4*4*3*10 + 10 = 490 -> 4*4 filter, 3 input image channels, 10 number of filters, +10 bias parameters of each filter\\nconv2: 5*5*10*20 + 20 = 5020\\nconv3: 6*6*20*32 + 32 = 23072\\nconv4: 3*3*32*40 + 40 = 11560\\n\\nafter conv4 layer: output \"image\": 3*3*40 = 360\\n\\nfc1: 360*50 + 50 = 18050 -> fc1 has 50 output features\\nfc2: 50*20 + 20 = 1020\\nfc3: 20*2 + 2 = 42\\n\\ncomplete CNN: 59254 parameters\\n'"
      ]
     },
     "execution_count": 22,
     "metadata": {},
     "output_type": "execute_result"
    }
   ],
   "source": [
    "\n",
    "\"\"\"\n",
    "--------------------------------\n",
    "number of parameters CNN below\n",
    "\n",
    "(II) f*f*ch_in*ch_out + ch_out_bias = params_conv_layer\n",
    "\n",
    "(III) numberOfInputImageElements*outputFeaturesCurrentFCLayer = params_fully_connected\n",
    "\n",
    "conv1: 4*4*3*10 + 10 = 490 -> 4*4 filter, 3 input image channels, 10 number of filters, +10 bias parameters of each filter\n",
    "conv2: 5*5*10*20 + 20 = 5020\n",
    "conv3: 6*6*20*32 + 32 = 23072\n",
    "conv4: 3*3*32*40 + 40 = 11560\n",
    "\n",
    "after conv4 layer: output \"image\": 3*3*40 = 360\n",
    "\n",
    "fc1: 360*50 + 50 = 18050 -> fc1 has 50 output features\n",
    "fc2: 50*20 + 20 = 1020\n",
    "fc3: 20*2 + 2 = 42\n",
    "\n",
    "complete CNN: 59254 parameters\n",
    "\"\"\""
   ]
  },
  {
   "cell_type": "code",
   "execution_count": 23,
   "metadata": {
    "id": "saaBxfbB10UL"
   },
   "outputs": [],
   "source": [
    "class CNN(nn.Module):\n",
    "  def __init__(self):\n",
    "    super().__init__()\n",
    "\n",
    "    self.conv1 = nn.Conv2d(in_channels=1, out_channels=5, kernel_size=(2,2), stride=1, padding=1)\n",
    "    self.bn1 = nn.BatchNorm2d(5)\n",
    "    self.conv2 = nn.Conv2d(in_channels=5, out_channels=10, kernel_size=(3,3), stride=2, padding=1)\n",
    "    self.bn2 = nn.BatchNorm2d(10)\n",
    "    # self.conv3 = nn.Conv2d(in_channels=20, out_channels=32, kernel_size=(6,6), stride=2, padding=1)\n",
    "    # self.bn3 = nn.BatchNorm2d(32)\n",
    "    # self.conv4 = nn.Conv2d(in_channels=32, out_channels=40, kernel_size=(3,3), stride=1, padding=1)\n",
    "    # self.bn4 = nn.BatchNorm2d(40)\n",
    "\n",
    "    self.fc1 = nn.Linear(in_features=270, out_features=15)\n",
    "    self.bn5 = nn.BatchNorm1d(15)\n",
    "    self.fc2 = nn.Linear(in_features=15, out_features=5)\n",
    "    self.bn6 = nn.BatchNorm1d(5)\n",
    "    self.fc3 = nn.Linear(in_features=5, out_features=2)\n",
    "\n",
    "  def forward(self, X):\n",
    "\n",
    "    X = F.relu(self.bn1(self.conv1(X)))\n",
    "\n",
    "    X = F.max_pool2d(X, 2)\n",
    "\n",
    "    X = F.relu(self.bn2(self.conv2(X)))\n",
    "\n",
    "    X = F.max_pool2d(X, 2)\n",
    "\n",
    "    #X = F.relu(self.bn3(self.conv3(X)))\n",
    "\n",
    "    #X = F.max_pool2d(X, 3, stride=2)\n",
    "    X = F.max_pool2d(X, 2)\n",
    "\n",
    "    # X = F.relu(self.bn4(self.conv4(X)))\n",
    "\n",
    "    # X = F.max_pool2d(X, 2)\n",
    "\n",
    "    X = X.view(X.shape[0], -1)\n",
    "    X = F.relu(self.bn5(self.fc1(X)))\n",
    "    X = F.relu(self.bn6(self.fc2(X)))\n",
    "    X = self.fc3(X)\n",
    "\n",
    "    return X\n"
   ]
  },
  {
   "cell_type": "code",
   "execution_count": 29,
   "metadata": {
    "id": "wcTlnEDU12ly"
   },
   "outputs": [
    {
     "name": "stdout",
     "output_type": "stream",
     "text": [
      "\n",
      " --- Epoch: 0, train loss: 0.5324, train acc: 0.6847, f1 score: 0.7215,  time: 142.01430249214172\n"
     ]
    },
    {
     "name": "stderr",
     "output_type": "stream",
     "text": [
      "/w0/tmp/slurm_ko617013.34294859/ipykernel_546948/1480254234.py:117: DeprecationWarning: elementwise comparison failed; this will raise an error in the future.\n",
      "  if rowsOfWrongClassifications == []:\n"
     ]
    },
    {
     "name": "stdout",
     "output_type": "stream",
     "text": [
      "Epoch: 0, test loss: 0.5734, test acc: 0.6695, f1score: 0.6985, time: 194.47144889831543\n",
      "\n",
      "\n",
      " --- Epoch: 1, train loss: 0.4628, train acc: 0.7104, f1 score: 0.7380,  time: 336.72343921661377\n"
     ]
    },
    {
     "name": "stderr",
     "output_type": "stream",
     "text": [
      "/w0/tmp/slurm_ko617013.34294859/ipykernel_546948/1480254234.py:117: DeprecationWarning: elementwise comparison failed; this will raise an error in the future.\n",
      "  if rowsOfWrongClassifications == []:\n"
     ]
    },
    {
     "name": "stdout",
     "output_type": "stream",
     "text": [
      "Epoch: 1, test loss: 0.7035, test acc: 0.6768, f1score: 0.7203, time: 389.9188902378082\n",
      "\n",
      "\n",
      " --- Epoch: 2, train loss: 0.4478, train acc: 0.7152, f1 score: 0.7430,  time: 533.8282997608185\n"
     ]
    },
    {
     "name": "stderr",
     "output_type": "stream",
     "text": [
      "/w0/tmp/slurm_ko617013.34294859/ipykernel_546948/1480254234.py:117: DeprecationWarning: elementwise comparison failed; this will raise an error in the future.\n",
      "  if rowsOfWrongClassifications == []:\n"
     ]
    },
    {
     "name": "stdout",
     "output_type": "stream",
     "text": [
      "Epoch: 2, test loss: 0.7694, test acc: 0.6455, f1score: 0.6937, time: 586.0424385070801\n",
      "\n",
      "\n",
      " --- Epoch: 3, train loss: 0.4426, train acc: 0.7180, f1 score: 0.7447,  time: 728.6440539360046\n"
     ]
    },
    {
     "name": "stderr",
     "output_type": "stream",
     "text": [
      "/w0/tmp/slurm_ko617013.34294859/ipykernel_546948/1480254234.py:117: DeprecationWarning: elementwise comparison failed; this will raise an error in the future.\n",
      "  if rowsOfWrongClassifications == []:\n"
     ]
    },
    {
     "name": "stdout",
     "output_type": "stream",
     "text": [
      "Epoch: 3, test loss: 0.7339, test acc: 0.6710, f1score: 0.7159, time: 780.771785736084\n",
      "\n"
     ]
    }
   ],
   "source": [
    "#MODEL TRAINING AND TESTING\n",
    "\n",
    "import time\n",
    "\n",
    "#basic settings\n",
    "model = CNN().to(device)\n",
    "number_epochs = 4\n",
    "loss_func = nn.CrossEntropyLoss()\n",
    "optimizer = torch.optim.Adam(model.parameters(), lr=0.001)\n",
    "losses = []         # for plotting \n",
    "accuracies = []      # for plotting\n",
    "test_losses = []    # for plotting\n",
    "test_accuracies = []   # for plotting\n",
    "\n",
    "\n",
    "f1score_list = []\n",
    "f1score_test_list = []\n",
    "\n",
    "\n",
    "#for the analysis of the wrong classifications\n",
    "pathsOfWrongClassifications = []\n",
    "rowsOfWrongClassifications = []\n",
    "correctLabel = []\n",
    "epochOfWrongClassification = []\n",
    "\n",
    "\n",
    "start = time.time()\n",
    "#model training and testing process\n",
    "for epoch in range(number_epochs):\n",
    "    \n",
    "    \n",
    "  train_preds = []       # for f1score\n",
    "  test_preds_list = []   # for f1score\n",
    "\n",
    "  train_class = []     # for f1score\n",
    "  test_class = []      # for f1score\n",
    "\n",
    "  epoch_loss = 0\n",
    "  epoch_accuracy = 0\n",
    "  \n",
    "  #-------model training-------\n",
    "  for (X, y, path) in trainDataLoader:\n",
    "    X = X.float().to(device) #torch.as_tensor(X)\n",
    "    y = y.to(device) #torch.as_tensor(y)\n",
    "    \n",
    "    train_class.extend(y.cpu().tolist())   #adds all the true labels in the batches in each epoch to the list\n",
    "    \n",
    "    predictions = model(X)\n",
    "    \n",
    "    \n",
    "    pred_class = predictions.argmax(dim=1)         ##finding predicted class labels for f1score\n",
    "    train_preds.extend(pred_class.cpu().tolist())    #adds all the predicted labels in the batches in each epoch to the list\n",
    "    \n",
    "    \n",
    "    \n",
    "    loss = loss_func(predictions, y.long())\n",
    "\n",
    "    #adaption of the neural network\n",
    "    optimizer.zero_grad()\n",
    "    loss.backward()\n",
    "    optimizer.step()\n",
    "\n",
    "    #\n",
    "    accuracy = ((predictions.argmax(dim=1) == y).float().mean())\n",
    "    \n",
    "    #epoch_accuracy and epoch_loss as it is being plotted cannot be tensor on cuda or have requiresgrad=True \n",
    "    epoch_accuracy += accuracy.cpu().detach().numpy()   \n",
    "    epoch_loss += loss.cpu().detach().numpy()\n",
    "  \n",
    "  #total epoch_accuracy and epoch_loss calculation\n",
    "  epoch_accuracy = epoch_accuracy/len(trainDataLoader)\n",
    "  accuracies.append(epoch_accuracy)\n",
    "  epoch_loss = epoch_loss / len(trainDataLoader)\n",
    "  losses.append(epoch_loss)\n",
    "  \n",
    "  # calculating f1_score in train\n",
    "  f1score = f1_score(train_preds, train_class, average = 'weighted')\n",
    "  f1score_list.append(f1score)\n",
    "    \n",
    "  print(\"\\n --- Epoch: {}, train loss: {:.4f}, train acc: {:.4f}, f1 score: {:.4f},  time: {}\".format(epoch, epoch_loss, epoch_accuracy, f1score, time.time() - start))\n",
    "  #-------model training-------\n",
    "  \n",
    "  \n",
    "  #---model testing---\n",
    "  model.eval() #sets the model in evaluation mode\n",
    "  \n",
    "  #with disabled gradient calculation\n",
    "  with torch.no_grad():\n",
    "    test_epoch_loss = 0\n",
    "    test_epoch_accuracy = 0\n",
    "\n",
    "    for test_X, test_y, path in testDataLoader:\n",
    "\n",
    "      test_X = test_X.float().to(device)\n",
    "      test_y = test_y.to(device)\n",
    "        \n",
    "      test_class.extend(test_y.cpu().tolist())   #adds all the true labels in the batches in each epoch to the list\n",
    "\n",
    "      test_preds = model(test_X)\n",
    "      \n",
    "      test_pred_class = test_preds.argmax(dim=1)    #finding predicted class labels for f1score  \n",
    "      test_preds_list.extend(test_pred_class.cpu().tolist())   #adds all the predicted labels in the batches in each epoch to the list\n",
    "    \n",
    "    \n",
    "      test_loss = loss_func(test_preds, test_y.long())\n",
    "      \n",
    "      \n",
    "        \n",
    "      test_epoch_loss += test_loss.cpu().numpy()            \n",
    "      test_accuracy = ((test_preds.argmax(dim=1) == test_y).float().mean())\n",
    "      test_epoch_accuracy += test_accuracy.cpu().numpy()\n",
    "\n",
    "      #if test prediction is wrong save the path of the image that has been classified wrong\n",
    "      for index, row in enumerate(test_preds):\n",
    "        if row.argmax(dim=0) != test_y[index]:\n",
    "          pathsOfWrongClassifications.append(path[index])\n",
    "          if rowsOfWrongClassifications == []:\n",
    "            row = row.cpu()\n",
    "            rowsOfWrongClassifications = row\n",
    "          else:\n",
    "            row = row.cpu()\n",
    "            rowsOfWrongClassifications = np.vstack([rowsOfWrongClassifications, row])\n",
    "          correctLabel.append(test_y[index].item())\n",
    "          epochOfWrongClassification.append(epoch)\n",
    "\n",
    "    #total test_epoch_accuracy and test_epoch_loss calculation\n",
    "    \n",
    "    test_epoch_accuracy = test_epoch_accuracy/len(testDataLoader)\n",
    "    test_accuracies.append(test_epoch_accuracy)   #for plotting\n",
    "    \n",
    "    test_epoch_loss = test_epoch_loss / len(testDataLoader)\n",
    "    test_losses.append(test_epoch_loss)           #for plotting\n",
    "    \n",
    "    f1score_test = f1_score(test_preds_list, test_class, average = 'weighted')\n",
    "    f1score_test_list.append(f1score_test)\n",
    "    print(\"Epoch: {}, test loss: {:.4f}, test acc: {:.4f}, f1score: {:.4f}, time: {}\\n\".format(epoch, test_epoch_loss, test_epoch_accuracy,f1score_test, time.time() - start))\n",
    "  #---model testing---\n",
    "\n",
    "  model.train(mode=True) #sets the model back in training mode"
   ]
  },
  {
   "cell_type": "code",
   "execution_count": 30,
   "metadata": {
    "id": "LxH3HzsW15YR"
   },
   "outputs": [
    {
     "name": "stdout",
     "output_type": "stream",
     "text": [
      "       testEpochNo personID  \\\n",
      "0                0        r   \n",
      "1                0        y   \n",
      "2                0        h   \n",
      "3                0        p   \n",
      "4                0        k   \n",
      "...            ...      ...   \n",
      "14935            3        y   \n",
      "14936            3        h   \n",
      "14937            3        n   \n",
      "14938            3        v   \n",
      "14939            3        e   \n",
      "\n",
      "                                               imagepath  correctLabel  \\\n",
      "0      /rwthfs/rz/cluster/home/ko617013/techlabs/Driv...             1   \n",
      "1      /rwthfs/rz/cluster/home/ko617013/techlabs/Driv...             1   \n",
      "2      /rwthfs/rz/cluster/home/ko617013/techlabs/Driv...             1   \n",
      "3      /rwthfs/rz/cluster/home/ko617013/techlabs/Driv...             1   \n",
      "4      /rwthfs/rz/cluster/home/ko617013/techlabs/Driv...             1   \n",
      "...                                                  ...           ...   \n",
      "14935  /rwthfs/rz/cluster/home/ko617013/techlabs/Driv...             1   \n",
      "14936  /rwthfs/rz/cluster/home/ko617013/techlabs/Driv...             1   \n",
      "14937  /rwthfs/rz/cluster/home/ko617013/techlabs/Driv...             1   \n",
      "14938  /rwthfs/rz/cluster/home/ko617013/techlabs/Driv...             1   \n",
      "14939  /rwthfs/rz/cluster/home/ko617013/techlabs/Driv...             1   \n",
      "\n",
      "       outputValueLabel0  outputValueLabel1  \n",
      "0              -0.277964          -0.351616  \n",
      "1              -0.277964          -0.351616  \n",
      "2              -0.277964          -0.351616  \n",
      "3              -0.277964          -0.351616  \n",
      "4              -0.277964          -0.351616  \n",
      "...                  ...                ...  \n",
      "14935          -0.332157          -0.553374  \n",
      "14936          -0.332157          -0.553374  \n",
      "14937          -0.332157          -0.553374  \n",
      "14938          -0.332157          -0.553374  \n",
      "14939           0.497753          -4.045861  \n",
      "\n",
      "[14940 rows x 6 columns]\n"
     ]
    }
   ],
   "source": [
    "#np_rows = np.array(rowsOfWrongClassifications)\n",
    "\n",
    "#extract the person ID out of the stored image paths\n",
    "personID = []\n",
    "for pathStr in pathsOfWrongClassifications:\n",
    "  personID.append(pathStr[pathStr.rfind('/')+1:-8])\n",
    "\n",
    "\n",
    "#create a dataframe from all wrong classified images in the test dataset\n",
    "dfWrong = pd.DataFrame()\n",
    "dfWrong['testEpochNo'] = epochOfWrongClassification\n",
    "dfWrong['personID'] = personID\n",
    "dfWrong['imagepath'] = pathsOfWrongClassifications\n",
    "dfWrong['correctLabel'] = correctLabel\n",
    "dfWrong['outputValueLabel0'] = rowsOfWrongClassifications[:,0]\n",
    "dfWrong['outputValueLabel1'] = rowsOfWrongClassifications[:,1]\n",
    "\n",
    "print(dfWrong)"
   ]
  },
  {
   "cell_type": "code",
   "execution_count": 31,
   "metadata": {
    "id": "olPaZiFA19-U"
   },
   "outputs": [
    {
     "data": {
      "text/plain": [
       "personID\n",
       "E     267\n",
       "G       5\n",
       "S      23\n",
       "ZB      2\n",
       "ZC      5\n",
       "a     193\n",
       "b      41\n",
       "c      68\n",
       "d      58\n",
       "e     877\n",
       "g     109\n",
       "h     104\n",
       "i      35\n",
       "j      33\n",
       "k      75\n",
       "l      45\n",
       "m      54\n",
       "n     220\n",
       "o      31\n",
       "p      30\n",
       "q      82\n",
       "r      84\n",
       "s     457\n",
       "u      75\n",
       "v     154\n",
       "w     102\n",
       "x      94\n",
       "y     186\n",
       "za     56\n",
       "zb    146\n",
       "zc    244\n",
       "dtype: int64"
      ]
     },
     "execution_count": 31,
     "metadata": {},
     "output_type": "execute_result"
    }
   ],
   "source": [
    "#get an overview of the persons that are likely to be classified in a wrong way\n",
    "dfOfEpoch2 = dfWrong[dfWrong['testEpochNo']==2]\n",
    "dfOfEpoch2.groupby('personID').size()"
   ]
  },
  {
   "cell_type": "code",
   "execution_count": 32,
   "metadata": {},
   "outputs": [
    {
     "data": {
      "image/png": "[encoded data removed]",
      "text/plain": [
       "<Figure size 432x288 with 1 Axes>"
      ]
     },
     "metadata": {
      "needs_background": "light"
     },
     "output_type": "display_data"
    },
    {
     "data": {
      "image/png": "[encoded data removed]",
      "text/plain": [
       "<Figure size 432x288 with 1 Axes>"
      ]
     },
     "metadata": {
      "needs_background": "light"
     },
     "output_type": "display_data"
    },
    {
     "data": {
      "image/png": "[encoded data removed]",
      "text/plain": [
       "<Figure size 432x288 with 1 Axes>"
      ]
     },
     "metadata": {
      "needs_background": "light"
     },
     "output_type": "display_data"
    }
   ],
   "source": [
    "# plot loss\n",
    "plt.plot(accuracies, label='train_accuracy')\n",
    "plt.plot(losses, label='train_loss')\n",
    "plt.legend()\n",
    "plt.title('Loss')\n",
    "plt.xlabel('Epoch')\n",
    "plt.ylabel('Loss')\n",
    "plt.show()\n",
    "\n",
    "# plot accuracy\n",
    "plt.plot(test_accuracies, label='test_accuracy')\n",
    "plt.plot(test_losses, label='test_loss')\n",
    "plt.legend()\n",
    "plt.title('Accuracy')\n",
    "plt.xlabel('Epoch')\n",
    "plt.ylabel('Accuracy')\n",
    "plt.show()\n",
    "\n",
    "\n",
    "#f1_score\n",
    "plt.plot(f1score_test_list, label='test_accuracy')\n",
    "#plt.plot(test_losses, label='test_loss')\n",
    "plt.legend()\n",
    "plt.title('f1_score')\n",
    "plt.xlabel('Epoch')\n",
    "plt.ylabel('Accuracy')\n",
    "plt.show()\n"
   ]
  },
  {
   "cell_type": "code",
   "execution_count": 33,
   "metadata": {},
   "outputs": [
    {
     "name": "stdout",
     "output_type": "stream",
     "text": [
      "[[5901 3525]\n",
      " [ 152 1592]]\n"
     ]
    }
   ],
   "source": [
    "cm = confusion_matrix(test_preds_list, test_class)\n",
    "print(cm)"
   ]
  },
  {
   "cell_type": "code",
   "execution_count": null,
   "metadata": {},
   "outputs": [],
   "source": []
  }
 ],
 "metadata": {
  "colab": {
   "provenance": []
  },
  "kernelspec": {
   "display_name": "Python 3 (ipykernel)",
   "language": "python",
   "name": "python3"
  },
  "language_info": {
   "codemirror_mode": {
    "name": "ipython",
    "version": 3
   },
   "file_extension": ".py",
   "mimetype": "text/x-python",
   "name": "python",
   "nbconvert_exporter": "python",
   "pygments_lexer": "ipython3",
   "version": "3.9.13"
  }
 },
 "nbformat": 4,
 "nbformat_minor": 4
}
