{
 "cells": [
  {
   "cell_type": "code",
   "execution_count": 5,
   "metadata": {},
   "outputs": [],
   "source": [
    "#INFORMATION ABOUT CNN\n",
    "\n",
    "#TRANSFORMATION scales from interval [0, 255] to [0.0, 1.0] and then Normalization x_new = (x-mean)/std\n",
    "\n",
    "#BATCH_SIZE = 64\n",
    "\n",
    "#----NUMBER OF PARAMETERS CNN----\n",
    "\n",
    "# input image has size 227*227\n",
    "\n",
    "#conv1: 4*4*3*10 + 10 = 490 -> 4*4 filter, 3 input image channels, 10 number of filters, +10 bias parameters of each filter\n",
    "#conv2: 5*5*10*15 + 15 = 3765\n",
    "#conv3: 6*6*15*20 + 20 = 10820\n",
    "#conv4: 3*3*20*25 + 25 = 4525\n",
    "\n",
    "#after conv4 layer: output \"image\": 3*3*25 = 225\n",
    "\n",
    "#fc1: 225*45 + 45 = 10170 -> fc1 has 45 output features\n",
    "#fc2: 45*20 + 20 = 920\n",
    "#fc3: 20*2 + 2 = 42\n",
    "\n",
    "#TOTAL CNN: 30732 parameters\n",
    "\n",
    "#----NUMBER OF PARAMETERS CNN----\n",
    "\n",
    "#---- CURRENT RESULTS ----\n",
    "\n",
    "# --- Epoch: 0, train loss: 0.0547, train acc: 0.9920, time: 185.72551941871643\n",
    "#Epoch: 0, test loss: 0.5021, test acc: 0.8298, time: 982.3053231239319\n",
    "\n",
    "# --- Epoch: 1, train loss: 0.0054, train acc: 0.9990, time: 1167.7591831684113\n",
    "#Epoch: 1, test loss: 0.3759, test acc: 0.9193, time: 1233.2979555130005\n",
    "\n",
    "# --- Epoch: 2, train loss: 0.0047, train acc: 0.9988, time: 1410.846270084381\n",
    "#Epoch: 2, test loss: 1.0650, test acc: 0.8194, time: 1476.1876842975616\n",
    "\n",
    "# --- Epoch: 3, train loss: 0.0022, train acc: 0.9993, time: 1649.150539636612\n",
    "#Epoch: 3, test loss: 0.6330, test acc: 0.8666, time: 1713.3415627479553\n",
    "\n",
    "# --- Epoch: 4, train loss: 0.0003, train acc: 1.0000, time: 1887.5666482448578\n",
    "#Epoch: 4, test loss: 0.8888, test acc: 0.8573, time: 1951.4360206127167\n",
    "\n",
    "# --- Epoch: 5, train loss: 0.0040, train acc: 0.9987, time: 2124.932951927185\n",
    "#Epoch: 5, test loss: 0.6418, test acc: 0.8751, time: 2189.122528076172\n",
    "\n",
    "# --- Epoch: 6, train loss: 0.0012, train acc: 0.9996, time: 2360.4124615192413\n",
    "#Epoch: 6, test loss: 0.7349, test acc: 0.8451, time: 2422.3692615032196\n",
    "\n",
    "# --- Epoch: 7, train loss: 0.0002, train acc: 1.0000, time: 2594.427927017212\n",
    "#Epoch: 7, test loss: 0.5947, test acc: 0.9201, time: 2659.300325155258\n",
    "\n",
    "#---- ----CLASSIFIED WRONG---- ----\n",
    "#person E, G, S have been shifted only to the test dataset\n",
    "\n",
    "#persons in test dataset that have been classified in a wrong way\n",
    "\n",
    "#E    278/962  = 28.9%\n",
    "#e     34/1000 = 3.4%\n",
    "\n",
    "#G      5/499  = 1.0%\n",
    "#g    108/109  = 99.1%\n",
    "\n",
    "#S      8/487  = 1.6%\n",
    "#s    457/457  = 100.0%\n",
    "\n",
    "#k      1/538  = 0.19%\n",
    "\n",
    "#---- CURRENT RESULTS ----"
   ]
  },
  {
   "cell_type": "code",
   "execution_count": 6,
   "metadata": {
    "id": "Rzlg7O2Q1E7P"
   },
   "outputs": [],
   "source": [
    "from torch.utils.data import Dataset, DataLoader\n",
    "from torchvision.datasets import ImageFolder\n",
    "from torchvision import transforms\n",
    "\n",
    "from PIL import Image\n",
    "\n",
    "import cv2\n",
    "\n",
    "import torch\n",
    "import torch.nn as nn\n",
    "import torch.nn.functional as F\n",
    "import pandas as pd\n",
    "import re\n",
    "import os\n",
    "import numpy as np\n",
    "import re\n",
    "\n",
    "from sklearn.metrics import f1_score\n",
    "from sklearn.metrics import confusion_matrix\n",
    "\n",
    "\n",
    "import matplotlib.pyplot as plt\n",
    "\n",
    "import math"
   ]
  },
  {
   "cell_type": "code",
   "execution_count": 7,
   "metadata": {
    "colab": {
     "base_uri": "https://localhost:8080/"
    },
    "id": "NSjAiHWs1IJb",
    "outputId": "a4130bf2-e3e2-4c82-b887-c12d07fc8185"
   },
   "outputs": [
    {
     "name": "stdout",
     "output_type": "stream",
     "text": [
      "GPU\n"
     ]
    }
   ],
   "source": [
    "\n",
    "if torch.cuda.is_available():\n",
    "  device = torch.device(\"cuda:0\")\n",
    "  print(\"GPU\")\n",
    "else:\n",
    "  device = torch.device(\"cpu\")\n",
    "  print(\"CPU\")"
   ]
  },
  {
   "cell_type": "code",
   "execution_count": 3,
   "metadata": {
    "colab": {
     "base_uri": "https://localhost:8080/"
    },
    "id": "lc107i9AwAc7",
    "outputId": "39182fe2-14cd-43cc-e648-4fb32f363707"
   },
   "outputs": [
    {
     "data": {
      "text/plain": [
       "'from google.colab import drive\\ndrive.mount(\\'/content/drive\\')\\n!unzip -uq \"/content/drive/MyDrive/DDD Project/Driver Drowsiness Dataset (DDD)/archive.zip\"\\n'"
      ]
     },
     "execution_count": 3,
     "metadata": {},
     "output_type": "execute_result"
    }
   ],
   "source": [
    "\"\"\"from google.colab import drive\n",
    "drive.mount('/content/drive')\n",
    "!unzip -uq \"/content/drive/MyDrive/DDD Project/Driver Drowsiness Dataset (DDD)/archive.zip\"\n",
    "\"\"\""
   ]
  },
  {
   "cell_type": "code",
   "execution_count": 8,
   "metadata": {},
   "outputs": [
    {
     "name": "stdout",
     "output_type": "stream",
     "text": [
      "df\n",
      "(41793, 4)\n",
      "dfTest\n",
      "(5709, 4)\n",
      "dfWithout\n",
      "(36084, 4)\n",
      "testTO\n",
      "(5709, 2)\n"
     ]
    }
   ],
   "source": [
    "#DATAFRAME OF ALL PICTURES, TAKEOUT SPECIFIC PERSONS, \n",
    "\n",
    "#create a pandas dataframe out of all pictures in the dataset\n",
    "#---- ---- ----\n",
    "# Add image paths, labels, file names and person IDs into lists\n",
    "image_path, label, file_name, person_ID = [], [], [], []\n",
    "\n",
    "#for the person_ID - identification criteria of participant\n",
    "pattern = re.compile(r'^[a-zA-Z][a-zA-Z]?')\n",
    "\n",
    "\n",
    "\n",
    "#data_dir = \"/content/drive/MyDrive/newdata/Driver Drowsiness Dataset (DDD)/\"\n",
    "\n",
    "## HPC cluster method\n",
    "path = os.getcwd()\n",
    "data_dir = path + str('/Driver Drowsiness Dataset (DDD)/')\n",
    "\n",
    "\n",
    "for class_name in os.listdir(data_dir):  #goes through all folders in DDD folder\n",
    "  for path in os.listdir(data_dir+class_name):  #goes through all files in both folders and updates file path and labels\n",
    "    if class_name == 'Drowsy':\n",
    "      label.append(0)\n",
    "    else:\n",
    "      label.append(1)\n",
    "    image_path.append(os.path.join(data_dir, class_name, path))\n",
    "    file_name.append(path)\n",
    "\n",
    "    person_ID.append(pattern.findall(path)[0])  #identification of participant\n",
    "\n",
    "\n",
    "#dataframe with path, label, file name, person_ID of all Persons\n",
    "df = pd.DataFrame()\n",
    "df['images'] = image_path\n",
    "df['label'] = label\n",
    "df['name'] = file_name\n",
    "df['person'] = person_ID\n",
    "\n",
    "print('df')\n",
    "print(df.shape)\n",
    "#---- ---- ----\n",
    "\n",
    "#split pandas dataframe with all pictures into dfTest with person E, G, S and dfWithout with all pictures except of E, G, S\n",
    "#---- ---- ---- ---- ---- ----\n",
    "#add Person E and G only to the Test Dataset\n",
    "dfTest = pd.concat([df[df['person']=='o'], df[df['person']=='O'], df[df['person']=='p'], df[df['person']=='P'], df[df['person']=='zb'], df[df['person']=='ZB']])\n",
    "print('dfTest')\n",
    "print(dfTest.shape)\n",
    "\n",
    "\n",
    "#remove Person E and G from the dataset with all Persons\n",
    "dfWithout = df\n",
    "dfWithout = dfWithout.drop(index=(df[df['person']=='o'].index))\n",
    "dfWithout = dfWithout.drop(index=(df[df['person']=='O'].index))\n",
    "dfWithout = dfWithout.drop(index=(df[df['person']=='p'].index))\n",
    "dfWithout = dfWithout.drop(index=(df[df['person']=='P'].index))\n",
    "\n",
    "dfWithout = dfWithout.drop(index=(df[df['person']=='zb'].index))\n",
    "dfWithout = dfWithout.drop(index=(df[df['person']=='ZB'].index))\n",
    "\n",
    "print('dfWithout')\n",
    "print(dfWithout.shape)\n",
    "#---- ---- ---- ---- ---- ----\n",
    "\n",
    "\n",
    "#converting imagepath and label of takeout persons G, E, S into an nparray\n",
    "#----\n",
    "imagePathTakeout = dfTest['images']\n",
    "labelTakeout = dfTest['label']\n",
    "\n",
    "imagePathTO = np.array(imagePathTakeout).reshape([-1,1])\n",
    "labelTO = np.array(labelTakeout).reshape([-1,1])\n",
    "testTO = np.hstack((imagePathTO, labelTO))\n",
    "\n",
    "print('testTO')\n",
    "print(testTO.shape)\n",
    "#----\n",
    "\n",
    "\n",
    "#converting imagepath and label of all other persons into an nparray\n",
    "#---- ----\n",
    "imagePathWithout = dfWithout['images']\n",
    "labelWithout = dfWithout['label']\n",
    "\n",
    "image_path = np.array(imagePathWithout).reshape([-1,1])\n",
    "label = np.array(labelWithout).reshape([-1,1])\n",
    "comp_data = np.hstack((image_path, label))\n",
    "#---- ----"
   ]
  },
  {
   "cell_type": "code",
   "execution_count": 9,
   "metadata": {
    "colab": {
     "base_uri": "https://localhost:8080/"
    },
    "id": "bsH9As_U1fsg",
    "outputId": "a0e773ca-9c2f-4244-c7a0-3bf0bd9e991a"
   },
   "outputs": [
    {
     "name": "stdout",
     "output_type": "stream",
     "text": [
      "[['/rwthfs/rz/cluster/home/ko617013/techlabs/Driver Drowsiness Dataset (DDD)/Non Drowsy/o0383.png'\n",
      "  1]\n",
      " ['/rwthfs/rz/cluster/home/ko617013/techlabs/Driver Drowsiness Dataset (DDD)/Non Drowsy/o0708.png'\n",
      "  1]\n",
      " ['/rwthfs/rz/cluster/home/ko617013/techlabs/Driver Drowsiness Dataset (DDD)/Non Drowsy/o0072.png'\n",
      "  1]\n",
      " ...\n",
      " ['/rwthfs/rz/cluster/home/ko617013/techlabs/Driver Drowsiness Dataset (DDD)/Drowsy/ZB1646.png'\n",
      "  0]\n",
      " ['/rwthfs/rz/cluster/home/ko617013/techlabs/Driver Drowsiness Dataset (DDD)/Drowsy/ZB1021.png'\n",
      "  0]\n",
      " ['/rwthfs/rz/cluster/home/ko617013/techlabs/Driver Drowsiness Dataset (DDD)/Drowsy/ZB1612.png'\n",
      "  0]]\n"
     ]
    }
   ],
   "source": [
    "\n",
    "\n",
    "print(testTO)\n",
    "     \n"
   ]
  },
  {
   "cell_type": "code",
   "execution_count": 10,
   "metadata": {
    "colab": {
     "base_uri": "https://localhost:8080/"
    },
    "id": "c1VHYWqc1iBx",
    "outputId": "ca0ec5a9-f734-4d71-f1f0-8aecd887575c"
   },
   "outputs": [
    {
     "name": "stdout",
     "output_type": "stream",
     "text": [
      "person\n",
      "A     1411\n",
      "B      315\n",
      "C      335\n",
      "D      179\n",
      "E      962\n",
      "F      415\n",
      "G      499\n",
      "H      508\n",
      "I     1095\n",
      "J      474\n",
      "K      630\n",
      "L      732\n",
      "M      777\n",
      "N     1156\n",
      "O     1097\n",
      "P      963\n",
      "Q      562\n",
      "R      204\n",
      "S      487\n",
      "T      933\n",
      "U      420\n",
      "V      653\n",
      "W     1162\n",
      "X     1749\n",
      "Y     1112\n",
      "ZA     621\n",
      "ZB    1551\n",
      "ZC    1346\n",
      "a     1252\n",
      "b      409\n",
      "c      400\n",
      "d     1005\n",
      "e     1000\n",
      "g      109\n",
      "h      571\n",
      "i     1045\n",
      "j      717\n",
      "k      538\n",
      "l      381\n",
      "m      473\n",
      "n      957\n",
      "o      671\n",
      "p      190\n",
      "q      521\n",
      "r      522\n",
      "s      457\n",
      "u      510\n",
      "v     1002\n",
      "w      493\n",
      "x     1143\n",
      "y     1500\n",
      "za    1054\n",
      "zb    1237\n",
      "zc    1288\n",
      "dtype: int64\n"
     ]
    }
   ],
   "source": [
    "\n",
    "#number of images of ALL persons of the dataset\n",
    "result = df.groupby(\"person\").size()\n",
    "print(result)\n"
   ]
  },
  {
   "cell_type": "code",
   "execution_count": 11,
   "metadata": {},
   "outputs": [
    {
     "data": {
      "image/png": "[encoded data removed]",
      "text/plain": [
       "<Figure size 1440x720 with 1 Axes>"
      ]
     },
     "metadata": {
      "needs_background": "light"
     },
     "output_type": "display_data"
    }
   ],
   "source": [
    "#plotting barchart of All persons\n",
    "plt.figure(figsize=(20,10))\n",
    "plt.bar(result.index, result.values, )\n",
    "plt.xlabel('Name')\n",
    "plt.ylabel('Number of People')\n",
    "plt.title('Bar Chart of Names')\n",
    "plt.show()"
   ]
  },
  {
   "cell_type": "code",
   "execution_count": 12,
   "metadata": {
    "colab": {
     "base_uri": "https://localhost:8080/"
    },
    "id": "cCu1CDIQ1j1V",
    "outputId": "adc4c6e0-acb8-4443-dd0b-ff88fb8d9e05"
   },
   "outputs": [
    {
     "name": "stdout",
     "output_type": "stream",
     "text": [
      "trainW\n",
      "(28867, 2)\n",
      "testW\n",
      "(7217, 2)\n",
      "test\n",
      "(12926, 2)\n",
      "[['/rwthfs/rz/cluster/home/ko617013/techlabs/Driver Drowsiness Dataset (DDD)/Non Drowsy/l0384.png'\n",
      "  1]\n",
      " ['/rwthfs/rz/cluster/home/ko617013/techlabs/Driver Drowsiness Dataset (DDD)/Drowsy/ZA0738.png'\n",
      "  0]\n",
      " ['/rwthfs/rz/cluster/home/ko617013/techlabs/Driver Drowsiness Dataset (DDD)/Drowsy/A0381.png'\n",
      "  0]\n",
      " ...\n",
      " ['/rwthfs/rz/cluster/home/ko617013/techlabs/Driver Drowsiness Dataset (DDD)/Drowsy/J0227.png'\n",
      "  0]\n",
      " ['/rwthfs/rz/cluster/home/ko617013/techlabs/Driver Drowsiness Dataset (DDD)/Drowsy/W0414.png'\n",
      "  0]\n",
      " ['/rwthfs/rz/cluster/home/ko617013/techlabs/Driver Drowsiness Dataset (DDD)/Drowsy/X0620.png'\n",
      "  0]]\n"
     ]
    }
   ],
   "source": [
    "#CREATE TRAIN DATASET AND TEST DATASET\n",
    "\n",
    "from sklearn.model_selection import train_test_split\n",
    "\n",
    "\n",
    "#nparray with all other persons (except of E, G, S) gets split into train and test dataset\n",
    "trainW, testW = train_test_split(comp_data, test_size=0.2, random_state=1234)\n",
    "print('trainW')\n",
    "print(trainW.shape)\n",
    "\n",
    "print('testW')\n",
    "print(testW.shape)\n",
    "\n",
    "\n",
    "#train dataset\n",
    "train = trainW\n",
    "\n",
    "\n",
    "#test dataset is a combination of the takeout of person E, G, S and the part that was split to test via train_test_split\n",
    "test = np.concatenate((testTO, testW))\n",
    "\n",
    "\n",
    "print('test')\n",
    "print(test.shape)\n",
    "print(train)\n",
    "     "
   ]
  },
  {
   "cell_type": "code",
   "execution_count": 13,
   "metadata": {
    "id": "H6WoJ6ET1mFK"
   },
   "outputs": [],
   "source": [
    "#basic methods of Dataset class need to be overwritten\n",
    "class DDDdataset(Dataset):\n",
    "  def __init__(self, image_paths, image_labels, transform):\n",
    "    super().__init__()\n",
    "    self.paths = image_paths\n",
    "    self.labels = image_labels\n",
    "    self.len = len(self.paths)\n",
    "    self.transform = transform\n",
    "  \n",
    "  def __len__(self): return self.len\n",
    "  \n",
    "  def __getitem__(self, index):\n",
    "    path = self.paths[index]\n",
    "    label = self.labels[index]\n",
    "    target_tensor=torch.from_numpy(np.array(label,dtype=np.int16))\n",
    "    #image = Image.open(path).convert('RGB')\n",
    "    image = cv2.imread(path,cv2.IMREAD_UNCHANGED)\n",
    "    image = cv2.cvtColor(image, cv2.COLOR_BGR2RGB)\n",
    "    image = self.transform(image)\n",
    "    return (image, target_tensor, path)"
   ]
  },
  {
   "cell_type": "markdown",
   "metadata": {},
   "source": [
    "# Standardisation"
   ]
  },
  {
   "cell_type": "code",
   "execution_count": 9,
   "metadata": {
    "id": "enP-t4n-1oXH"
   },
   "outputs": [
    {
     "data": {
      "text/plain": [
       "'#transformation for the calculation of mean and std for the train dataset\\ntransformationCalc = transforms.Compose([\\n    #ToTensor() includes an automatic scaling from the interval (0,255) to (0.0,1.0)\\n    transforms.ToTensor()\\n])\\n\\n#train dataset and loader for the calculation of mean and std for the train dataset\\ntrainDatasetCalc = DDDdataset(train[:,0], train[:,-1], transformationCalc)\\n\\nloaderCalc = DataLoader(trainDatasetCalc, batch_size=128, shuffle=True)'"
      ]
     },
     "execution_count": 9,
     "metadata": {},
     "output_type": "execute_result"
    }
   ],
   "source": [
    "\n",
    "\n",
    "#TRANSFORMATION, TRAIN DATASET AND LOADER FOR THE CALCULATION OF MEAN AND STD FOR EVERY CHANNEL\n",
    "\n",
    "#transformation for the calculation of mean and std for the train dataset\n",
    "transformationCalc = transforms.Compose([\n",
    "    #ToTensor() includes an automatic scaling from the interval (0,255) to (0.0,1.0)\n",
    "    transforms.ToTensor()\n",
    "])\n",
    "\n",
    "#train dataset and loader for the calculation of mean and std for the train dataset\n",
    "trainDatasetCalc = DDDdataset(train[:,0], train[:,-1], transformationCalc)\n",
    "\n",
    "loaderCalc = DataLoader(trainDatasetCalc, batch_size=128, shuffle=True, num_workers = 8)\n",
    "     \n"
   ]
  },
  {
   "cell_type": "markdown",
   "metadata": {},
   "source": [
    "## Method 1"
   ]
  },
  {
   "cell_type": "code",
   "execution_count": null,
   "metadata": {},
   "outputs": [],
   "source": [
    "#CALCULATION MEAN AND STD FOR EVERY CHANNEL\n",
    "\n",
    "numberOfPixelsPerImage = 227*227\n",
    "noOfImages = train.shape[0]\n",
    "\n",
    "\n",
    "#lists to collect the sum of all pixel values in the batch for R, G, B\n",
    "sumOfBatchesR, sumOfBatchesG, sumOfBatchesB = [], [], []\n",
    "squaredSumOfBatchesR, squaredSumOfBatchesG, squaredSumOfBatchesB = [], [], []\n",
    "\n",
    "\n",
    "#in calcBatch(es) with 128 pictures each perform sum operations\n",
    "for calcBatch in loaderCalc:\n",
    "  #calcBatch[0] with dimension (128, 3, 227, 227)\n",
    "  currentBatch = calcBatch[0]\n",
    "  #currentBatch = currentBatch.float()\n",
    "\n",
    "\n",
    "  rgbSumOfBatch = currentBatch.sum(axis=3) #reduce column of one picture to one column (128, 3, 227)\n",
    "  rgbSumOfBatch = rgbSumOfBatch.sum(axis=2) #reduce row of one picture to one row (128, 3)\n",
    "  rgbSumOfBatch = rgbSumOfBatch.sum(axis=0) #combine all pictures of the batch to 3 values for rgb (3)\n",
    "\n",
    "  #sum of the batch for R, G, B is stored for final calculation\n",
    "  sumOfBatchesR.append(rgbSumOfBatch[0])\n",
    "  sumOfBatchesG.append(rgbSumOfBatch[1])\n",
    "  sumOfBatchesB.append(rgbSumOfBatch[2])\n",
    "\n",
    "\n",
    "  rgbSquaredSumOfBatch = ((currentBatch)**2).sum(axis=3) #reduce column of one picture to one column (128, 227, 3)\n",
    "  rgbSquaredSumOfBatch = rgbSquaredSumOfBatch.sum(axis=2) #reduce row of one picture to one row (128, 3)\n",
    "  rgbSquaredSumOfBatch = rgbSquaredSumOfBatch.sum(axis=0) #combine all pictures of the batch to 3 values for rgb (3)\n",
    "\n",
    "  #squared sum of the batch for R, G, B is stored for final calculation\n",
    "  squaredSumOfBatchesR.append(rgbSquaredSumOfBatch[0])\n",
    "  squaredSumOfBatchesG.append(rgbSquaredSumOfBatch[1])\n",
    "  squaredSumOfBatchesB.append(rgbSquaredSumOfBatch[2])\n",
    "\n",
    "\n",
    "#final sum for R, G, B\n",
    "sumOfBatchesR = np.array(sumOfBatchesR).sum()\n",
    "sumOfBatchesG = np.array(sumOfBatchesG).sum()\n",
    "sumOfBatchesB = np.array(sumOfBatchesB).sum()\n",
    "\n",
    "#calculation of the mean for R, G, B\n",
    "meanR = sumOfBatchesR/(numberOfPixelsPerImage*noOfImages)\n",
    "meanG = sumOfBatchesG/(numberOfPixelsPerImage*noOfImages)\n",
    "meanB = sumOfBatchesB/(numberOfPixelsPerImage*noOfImages)\n",
    "\n",
    "#final squared sum for R, G, B\n",
    "squaredSumOfBatchesR = np.array(squaredSumOfBatchesR).sum()\n",
    "squaredSumOfBatchesG = np.array(squaredSumOfBatchesG).sum()\n",
    "squaredSumOfBatchesB = np.array(squaredSumOfBatchesB).sum()\n",
    "\n",
    "#final variance\n",
    "varianceR = (squaredSumOfBatchesR - ((sumOfBatchesR)**2)/(numberOfPixelsPerImage*noOfImages))/(numberOfPixelsPerImage*noOfImages)\n",
    "varianceG = (squaredSumOfBatchesG - ((sumOfBatchesG)**2)/(numberOfPixelsPerImage*noOfImages))/(numberOfPixelsPerImage*noOfImages)\n",
    "varianceB = (squaredSumOfBatchesB - ((sumOfBatchesB)**2)/(numberOfPixelsPerImage*noOfImages))/(numberOfPixelsPerImage*noOfImages)\n",
    "\n",
    "#final std of R, G, B\n",
    "stdR = math.sqrt(varianceR)\n",
    "stdG = math.sqrt(varianceG)\n",
    "stdB = math.sqrt(varianceB)\n",
    "\n",
    "mean=[meanR, meanG, meanB]\n",
    "std=[stdR, stdG, stdB]\n",
    "\n",
    "\n",
    "print(meanR)\n",
    "print(meanG)\n",
    "print(meanB)\n",
    "print('---')\n",
    "print(stdR)\n",
    "print(stdG)\n",
    "print(stdB)"
   ]
  },
  {
   "cell_type": "code",
   "execution_count": 15,
   "metadata": {},
   "outputs": [],
   "source": [
    "#use this cell to avoid duration of the calculation of mean and std\n",
    "meanR = 0.5078696757850544\n",
    "meanG = 0.383553314333379\n",
    "meanB = 0.3425597905213773\n",
    "\n",
    "stdR = 0.2523046539381231\n",
    "stdG = 0.22919015141761262\n",
    "stdB =0.21377369693134016\n",
    "\n",
    "mean=[meanR, meanG, meanB]\n",
    "std=[stdR, stdG, stdB]"
   ]
  },
  {
   "cell_type": "markdown",
   "metadata": {},
   "source": [
    "## Method 2"
   ]
  },
  {
   "cell_type": "code",
   "execution_count": 10,
   "metadata": {
    "colab": {
     "base_uri": "https://localhost:8080/",
     "height": 381
    },
    "id": "nsHPACDAqezb",
    "outputId": "09fd2119-795e-4631-f3b2-1cf3fb5e136e"
   },
   "outputs": [
    {
     "data": {
      "text/plain": [
       "'sum = []\\nsum = np.zeros((3))\\nno_of_pixels = len(trainDatasetCalc)*227*227\\nfor batch in loaderCalc: \\n  \\n\\n  for i in range(3) : #no of channels\\n    \\n  \\n    sum[i] += batch[0][:,i,:,:].sum()\\n  '"
      ]
     },
     "execution_count": 10,
     "metadata": {},
     "output_type": "execute_result"
    }
   ],
   "source": [
    "\"\"\"sum = []\n",
    "sum = np.zeros((3))\n",
    "no_of_pixels = len(trainDatasetCalc)*227*227\n",
    "for batch in loaderCalc: \n",
    "  \n",
    "\n",
    "  for i in range(3) : #no of channels\n",
    "    \n",
    "  \n",
    "    sum[i] += batch[0][:,i,:,:].sum()\n",
    "  \"\"\"\n",
    "\n"
   ]
  },
  {
   "cell_type": "code",
   "execution_count": 11,
   "metadata": {
    "id": "e2_c6oITryiF"
   },
   "outputs": [
    {
     "data": {
      "text/plain": [
       "'mean = sum / no_of_pixels\\nprint(mean)'"
      ]
     },
     "execution_count": 11,
     "metadata": {},
     "output_type": "execute_result"
    }
   ],
   "source": [
    "\"\"\"mean = sum / no_of_pixels\n",
    "print(mean)\"\"\""
   ]
  },
  {
   "cell_type": "code",
   "execution_count": 12,
   "metadata": {
    "id": "gAauqWPLwGWl"
   },
   "outputs": [
    {
     "data": {
      "text/plain": [
       "'sum_sq = []\\nsum_sq = np.zeros((3))\\nfor batch in loaderCalc:\\n  for i in range(3) : #no of channels\\n      \\n      sum_sq[i] += ((batch[0][:,i,:,:]-mean[i]).pow(2)).sum()'"
      ]
     },
     "execution_count": 12,
     "metadata": {},
     "output_type": "execute_result"
    }
   ],
   "source": [
    "\"\"\"sum_sq = []\n",
    "sum_sq = np.zeros((3))\n",
    "for batch in loaderCalc:\n",
    "  for i in range(3) : #no of channels\n",
    "      \n",
    "      sum_sq[i] += ((batch[0][:,i,:,:]-mean[i]).pow(2)).sum()\"\"\"\n",
    "      \n",
    "   "
   ]
  },
  {
   "cell_type": "code",
   "execution_count": 13,
   "metadata": {
    "id": "b8F5rJDyw6TO"
   },
   "outputs": [
    {
     "data": {
      "text/plain": [
       "'std = np.sqrt(sum_sq/no_of_pixels)\\nprint(std)'"
      ]
     },
     "execution_count": 13,
     "metadata": {},
     "output_type": "execute_result"
    }
   ],
   "source": [
    "\"\"\"std = np.sqrt(sum_sq/no_of_pixels)\n",
    "print(std)\"\"\""
   ]
  },
  {
   "cell_type": "code",
   "execution_count": 14,
   "metadata": {
    "id": "DVmw9m11GB05"
   },
   "outputs": [],
   "source": [
    "mean = [0.5055243 , 0.3837401 , 0.33682286]\n",
    "std = [0.24825575, 0.22582591 ,0.21188137]"
   ]
  },
  {
   "cell_type": "code",
   "execution_count": 16,
   "metadata": {},
   "outputs": [],
   "source": [
    "#TRANSFORMATION, TRAIN DATASET AND LOADER FOR MODEL TRAINING\n",
    "\n",
    "#transformation for model training and testing\n",
    "transformation = transforms.Compose([\n",
    "    #ToTensor() includes an automatic scaling from the interval [0,255] to [0.0,1.0]\n",
    "    transforms.ToTensor(),\n",
    "    #Normalization x_new = (x - mean)/std\n",
    "    transforms.Normalize(mean=mean, std=std)\n",
    "])\n",
    "\n",
    "\n",
    "#datasets and dataloaders for model training and testing\n",
    "trainDataset = DDDdataset(train[:,0], train[:,-1], transformation)\n",
    "testDataset = DDDdataset(test[:,0], test[:,-1], transformation)\n",
    "\n",
    "trainDataLoader = DataLoader(trainDataset, batch_size=64, shuffle=True, num_workers = 8)  ## added num_workers parameter here\n",
    "testDataLoader = DataLoader(testDataset, batch_size=64, shuffle=True, num_workers = 8)  ## added num_workers parameter here"
   ]
  },
  {
   "cell_type": "code",
   "execution_count": 17,
   "metadata": {
    "colab": {
     "base_uri": "https://localhost:8080/",
     "height": 104
    },
    "id": "ZBgfaAOv1yA4",
    "outputId": "8ac1ca60-9959-4714-974c-9701aca4ad38"
   },
   "outputs": [],
   "source": [
    "\n",
    "#INFORMATION ABOUT CNN\n",
    "\n",
    "#transformation scales from interval [0, 255] to [0.0, 1.0] and then Normalization\n",
    "\n",
    "#batch_size = 64\n",
    "\n",
    "#----NUMBER OF PARAMETERS CNN below----\n",
    "\n",
    "# input image has size 227*227\n",
    "\n",
    "#conv1: 4*4*3*10 + 10 = 490 -> 4*4 filter, 3 input image channels, 10 number of filters, +10 bias parameters of each filter\n",
    "#conv2: 5*5*10*15 + 15 = 3765\n",
    "#conv3: 6*6*15*20 + 20 = 10820\n",
    "#conv4: 3*3*20*25 + 25 = 4525\n",
    "\n",
    "#after conv4 layer: output \"image\": 3*3*25 = 225\n",
    "\n",
    "#fc1: 225*45 + 45 = 10170 -> fc1 has 45 output features\n",
    "#fc2: 45*20 + 20 = 920\n",
    "#fc3: 20*2 + 2 = 42\n",
    "\n",
    "#TOTAL CNN: 30732 parameters\n",
    "\n",
    "#----NUMBER OF PARAMETERS CNN below----"
   ]
  },
  {
   "cell_type": "code",
   "execution_count": 18,
   "metadata": {
    "id": "saaBxfbB10UL"
   },
   "outputs": [],
   "source": [
    "\n",
    "\n",
    "#LAYERS OF THE MODEL\n",
    "\n",
    "class CNN(nn.Module):\n",
    "  def __init__(self):\n",
    "    super().__init__()\n",
    "\n",
    "    self.conv1 = nn.Conv2d(in_channels=3, out_channels=10, kernel_size=(4,4), stride=1, padding=1)\n",
    "    self.bn1 = nn.BatchNorm2d(10)\n",
    "    self.conv2 = nn.Conv2d(in_channels=10, out_channels=15, kernel_size=(5,5), stride=2, padding=1)\n",
    "    self.bn2 = nn.BatchNorm2d(15)\n",
    "    self.conv3 = nn.Conv2d(in_channels=15, out_channels=20, kernel_size=(6,6), stride=2, padding=1)\n",
    "    self.bn3 = nn.BatchNorm2d(20)\n",
    "    self.conv4 = nn.Conv2d(in_channels=20, out_channels=25, kernel_size=(3,3), stride=1, padding=1)\n",
    "    self.bn4 = nn.BatchNorm2d(25)\n",
    "\n",
    "    self.fc1 = nn.Linear(in_features=25*3*3, out_features=45)\n",
    "    self.bn5 = nn.BatchNorm1d(45)\n",
    "    self.fc2 = nn.Linear(in_features=45, out_features=20)\n",
    "    self.bn6 = nn.BatchNorm1d(20)\n",
    "    self.fc3 = nn.Linear(in_features=20, out_features=2)\n",
    "\n",
    "  def forward(self, X):\n",
    "\n",
    "    X = F.relu(self.bn1(self.conv1(X)))\n",
    "    X = F.max_pool2d(X, 2)\n",
    "    X = F.relu(self.bn2(self.conv2(X)))\n",
    "    X = F.max_pool2d(X, 2)\n",
    "    X = F.relu(self.bn3(self.conv3(X)))\n",
    "    X = F.max_pool2d(X, 3, stride=2)\n",
    "    X = F.relu(self.bn4(self.conv4(X)))\n",
    "    X = F.max_pool2d(X, 2)\n",
    "\n",
    "    X = X.view(X.shape[0], -1)\n",
    "    X = F.relu(self.bn5(self.fc1(X)))\n",
    "    X = F.relu(self.bn6(self.fc2(X)))\n",
    "    X = self.fc3(X)\n",
    "\n",
    "    return X\n",
    "\n",
    "     \n",
    "\n"
   ]
  },
  {
   "cell_type": "code",
   "execution_count": 19,
   "metadata": {
    "colab": {
     "base_uri": "https://localhost:8080/"
    },
    "id": "wcTlnEDU12ly",
    "outputId": "ed6d8e73-16b6-4db3-889d-d90dd6dd4aa6"
   },
   "outputs": [
    {
     "name": "stdout",
     "output_type": "stream",
     "text": [
      "\n",
      " --- Epoch: 0, train loss: 0.0768, train acc: 0.9913, f1 score: 0.9913,  time: 22.417044401168823\n"
     ]
    },
    {
     "name": "stderr",
     "output_type": "stream",
     "text": [
      "/w0/tmp/slurm_ko617013.34285995/ipykernel_116739/432953991.py:113: DeprecationWarning: elementwise comparison failed; this will raise an error in the future.\n",
      "  if rowsOfWrongClassifications == []:\n"
     ]
    },
    {
     "name": "stdout",
     "output_type": "stream",
     "text": [
      "Epoch: 0, test loss: 0.5026, test acc: 0.8399, f1score: 0.8463, time: 30.725297927856445\n",
      "\n",
      "\n",
      " --- Epoch: 1, train loss: 0.0041, train acc: 0.9995, f1 score: 0.9995,  time: 52.10543513298035\n"
     ]
    },
    {
     "name": "stderr",
     "output_type": "stream",
     "text": [
      "/w0/tmp/slurm_ko617013.34285995/ipykernel_116739/432953991.py:113: DeprecationWarning: elementwise comparison failed; this will raise an error in the future.\n",
      "  if rowsOfWrongClassifications == []:\n"
     ]
    },
    {
     "name": "stdout",
     "output_type": "stream",
     "text": [
      "Epoch: 1, test loss: 0.3188, test acc: 0.8474, f1score: 0.8467, time: 60.01157808303833\n",
      "\n",
      "\n",
      " --- Epoch: 2, train loss: 0.0054, train acc: 0.9985, f1 score: 0.9985,  time: 81.42028045654297\n"
     ]
    },
    {
     "name": "stderr",
     "output_type": "stream",
     "text": [
      "/w0/tmp/slurm_ko617013.34285995/ipykernel_116739/432953991.py:113: DeprecationWarning: elementwise comparison failed; this will raise an error in the future.\n",
      "  if rowsOfWrongClassifications == []:\n"
     ]
    },
    {
     "name": "stdout",
     "output_type": "stream",
     "text": [
      "Epoch: 2, test loss: 0.3064, test acc: 0.9171, f1score: 0.9178, time: 89.40570259094238\n",
      "\n",
      "\n",
      " --- Epoch: 3, train loss: 0.0066, train acc: 0.9989, f1 score: 0.9996,  time: 110.81399393081665\n"
     ]
    },
    {
     "name": "stderr",
     "output_type": "stream",
     "text": [
      "/w0/tmp/slurm_ko617013.34285995/ipykernel_116739/432953991.py:113: DeprecationWarning: elementwise comparison failed; this will raise an error in the future.\n",
      "  if rowsOfWrongClassifications == []:\n"
     ]
    },
    {
     "name": "stdout",
     "output_type": "stream",
     "text": [
      "Epoch: 3, test loss: 0.6666, test acc: 0.8308, f1score: 0.8301, time: 118.83108687400818\n",
      "\n"
     ]
    }
   ],
   "source": [
    "#MODEL TRAINING AND TESTING\n",
    "\n",
    "import time\n",
    "\n",
    "#basic settings\n",
    "model = CNN().to(device)\n",
    "number_epochs = 4\n",
    "loss_func = nn.CrossEntropyLoss()\n",
    "optimizer = torch.optim.Adam(model.parameters(), lr=0.001)\n",
    "losses = []         # for plotting \n",
    "accuracies = []      # for plotting\n",
    "test_losses = []    # for plotting\n",
    "test_accuracies = []   # for plotting\n",
    "\n",
    "\n",
    "\n",
    "#for the analysis of the wrong classifications\n",
    "pathsOfWrongClassifications = []\n",
    "rowsOfWrongClassifications = []\n",
    "correctLabel = []\n",
    "epochOfWrongClassification = []\n",
    "\n",
    "\n",
    "start = time.time()\n",
    "#model training and testing process\n",
    "for epoch in range(number_epochs):\n",
    "    \n",
    "    \n",
    "  train_preds = []       # for f1score\n",
    "  test_preds_list = []   # for f1score\n",
    "\n",
    "  train_class = []     # for f1score\n",
    "  test_class = []      # for f1score\n",
    "\n",
    "  epoch_loss = 0\n",
    "  epoch_accuracy = 0\n",
    "  \n",
    "  #-------model training-------\n",
    "  for (X, y, path) in trainDataLoader:\n",
    "    X = X.to(device) #torch.as_tensor(X)\n",
    "    y = y.to(device) #torch.as_tensor(y)\n",
    "    \n",
    "    train_class.extend(y.cpu().tolist())   #adds all the true labels in the batches in each epoch to the list\n",
    "    \n",
    "    predictions = model(X)\n",
    "    \n",
    "    \n",
    "    pred_class = predictions.argmax(dim=1)         ##finding predicted class labels for f1score\n",
    "    train_preds.extend(pred_class.cpu().tolist())    #adds all the predicted labels in the batches in each epoch to the list\n",
    "    \n",
    "    \n",
    "    \n",
    "    loss = loss_func(predictions, y.long())\n",
    "\n",
    "    #adaption of the neural network\n",
    "    optimizer.zero_grad()\n",
    "    loss.backward()\n",
    "    optimizer.step()\n",
    "\n",
    "    #\n",
    "    accuracy = ((predictions.argmax(dim=1) == y).float().mean())\n",
    "    \n",
    "    #epoch_accuracy and epoch_loss as it is being plotted cannot be tensor on cuda or have requiresgrad=True \n",
    "    epoch_accuracy += accuracy.cpu().detach().numpy()   \n",
    "    epoch_loss += loss.cpu().detach().numpy()\n",
    "  \n",
    "  #total epoch_accuracy and epoch_loss calculation\n",
    "  epoch_accuracy = epoch_accuracy/len(trainDataLoader)\n",
    "  accuracies.append(epoch_accuracy)\n",
    "  epoch_loss = epoch_loss / len(trainDataLoader)\n",
    "  losses.append(epoch_loss)\n",
    "  \n",
    "  # calculating f1_score in train\n",
    "  f1score = f1_score(train_preds, train_class, average = 'weighted')\n",
    "  \n",
    "  print(\"\\n --- Epoch: {}, train loss: {:.4f}, train acc: {:.4f}, f1 score: {:.4f},  time: {}\".format(epoch, epoch_loss, epoch_accuracy, f1score, time.time() - start))\n",
    "  #-------model training-------\n",
    "  \n",
    "  \n",
    "  #---model testing---\n",
    "  model.eval() #sets the model in evaluation mode\n",
    "  \n",
    "  #with disabled gradient calculation\n",
    "  with torch.no_grad():\n",
    "    test_epoch_loss = 0\n",
    "    test_epoch_accuracy = 0\n",
    "\n",
    "    for test_X, test_y, path in testDataLoader:\n",
    "\n",
    "      test_X = test_X.to(device)\n",
    "      test_y = test_y.to(device)\n",
    "        \n",
    "      test_class.extend(test_y.cpu().tolist())   #adds all the true labels in the batches in each epoch to the list\n",
    "\n",
    "      test_preds = model(test_X)\n",
    "      \n",
    "      test_pred_class = test_preds.argmax(dim=1)    #finding predicted class labels for f1score  \n",
    "      test_preds_list.extend(test_pred_class.cpu().tolist())   #adds all the predicted labels in the batches in each epoch to the list\n",
    "    \n",
    "    \n",
    "      test_loss = loss_func(test_preds, test_y.long())\n",
    "      \n",
    "      \n",
    "        \n",
    "      test_epoch_loss += test_loss.cpu().numpy()            \n",
    "      test_accuracy = ((test_preds.argmax(dim=1) == test_y).float().mean())\n",
    "      test_epoch_accuracy += test_accuracy.cpu().numpy()\n",
    "\n",
    "      #if test prediction is wrong save the path of the image that has been classified wrong\n",
    "      for index, row in enumerate(test_preds):\n",
    "        if row.argmax(dim=0) != test_y[index]:\n",
    "          pathsOfWrongClassifications.append(path[index])\n",
    "          if rowsOfWrongClassifications == []:\n",
    "            row = row.cpu()\n",
    "            rowsOfWrongClassifications = row\n",
    "          else:\n",
    "            row = row.cpu()\n",
    "            rowsOfWrongClassifications = np.vstack([rowsOfWrongClassifications, row])\n",
    "          correctLabel.append(test_y[index].item())\n",
    "          epochOfWrongClassification.append(epoch)\n",
    "\n",
    "    #total test_epoch_accuracy and test_epoch_loss calculation\n",
    "    \n",
    "    test_epoch_accuracy = test_epoch_accuracy/len(testDataLoader)\n",
    "    test_accuracies.append(test_epoch_accuracy)   #for plotting\n",
    "    \n",
    "    test_epoch_loss = test_epoch_loss / len(testDataLoader)\n",
    "    test_losses.append(test_epoch_loss)           #for plotting\n",
    "    \n",
    "    f1score_test = f1_score(test_preds_list, test_class, average = 'weighted')\n",
    "    \n",
    "    print(\"Epoch: {}, test loss: {:.4f}, test acc: {:.4f}, f1score: {:.4f}, time: {}\\n\".format(epoch, test_epoch_loss, test_epoch_accuracy,f1score_test, time.time() - start))\n",
    "  #---model testing---\n",
    "\n",
    "  model.train(mode=True) #sets the model back in training mode"
   ]
  },
  {
   "cell_type": "code",
   "execution_count": 20,
   "metadata": {
    "id": "LxH3HzsW15YR"
   },
   "outputs": [
    {
     "name": "stdout",
     "output_type": "stream",
     "text": [
      "      testEpochNo personID                                          imagepath  \\\n",
      "0               0        o  /rwthfs/rz/cluster/home/ko617013/techlabs/Driv...   \n",
      "1               0       ZB  /rwthfs/rz/cluster/home/ko617013/techlabs/Driv...   \n",
      "2               0       zb  /rwthfs/rz/cluster/home/ko617013/techlabs/Driv...   \n",
      "3               0       zb  /rwthfs/rz/cluster/home/ko617013/techlabs/Driv...   \n",
      "4               0        o  /rwthfs/rz/cluster/home/ko617013/techlabs/Driv...   \n",
      "...           ...      ...                                                ...   \n",
      "7295            3        o  /rwthfs/rz/cluster/home/ko617013/techlabs/Driv...   \n",
      "7296            3        O  /rwthfs/rz/cluster/home/ko617013/techlabs/Driv...   \n",
      "7297            3       zb  /rwthfs/rz/cluster/home/ko617013/techlabs/Driv...   \n",
      "7298            3       ZB  /rwthfs/rz/cluster/home/ko617013/techlabs/Driv...   \n",
      "7299            3        O  /rwthfs/rz/cluster/home/ko617013/techlabs/Driv...   \n",
      "\n",
      "      correctLabel  outputValueLabel0  outputValueLabel1  \n",
      "0                1           0.569665           0.268469  \n",
      "1                0           0.183494           1.092010  \n",
      "2                1           2.449714          -1.720546  \n",
      "3                1           2.107441          -1.468293  \n",
      "4                1           0.607079           0.302570  \n",
      "...            ...                ...                ...  \n",
      "7295             1           0.913667           0.189749  \n",
      "7296             0          -1.450942           2.977686  \n",
      "7297             1           2.040632          -1.095950  \n",
      "7298             0          -0.577327           1.232573  \n",
      "7299             0          -2.155267           3.835416  \n",
      "\n",
      "[7300 rows x 6 columns]\n"
     ]
    }
   ],
   "source": [
    "#DATAFRAME OF ALL PERSONS THAT HAVE BEEN CLASSIFIED WRONG IN ALL EPOCHS\n",
    "\n",
    "#extract the person ID out of the stored image paths\n",
    "personID = []\n",
    "for pathStr in pathsOfWrongClassifications:\n",
    "  personID.append(pathStr[pathStr.rfind('/')+1:-8])\n",
    "\n",
    "\n",
    "#create a dataframe from all wrong classified images in the test dataset\n",
    "dfWrong = pd.DataFrame()\n",
    "dfWrong['testEpochNo'] = epochOfWrongClassification\n",
    "dfWrong['personID'] = personID\n",
    "dfWrong['imagepath'] = pathsOfWrongClassifications\n",
    "dfWrong['correctLabel'] = correctLabel\n",
    "dfWrong['outputValueLabel0'] = rowsOfWrongClassifications[:,0]\n",
    "dfWrong['outputValueLabel1'] = rowsOfWrongClassifications[:,1]\n",
    "\n",
    "print(dfWrong)"
   ]
  },
  {
   "cell_type": "code",
   "execution_count": 51,
   "metadata": {
    "id": "olPaZiFA19-U"
   },
   "outputs": [
    {
     "name": "stdout",
     "output_type": "stream",
     "text": [
      "epoch 0\n",
      "Person ID  Wrong  Total  Percentage\n",
      "epoch 1\n",
      "Person ID  Wrong  Total  Percentage\n",
      "epoch 2\n",
      "Person ID  Wrong  Total  Percentage\n",
      "epoch 3\n",
      "Person ID  Wrong  Total  Percentage\n"
     ]
    }
   ],
   "source": [
    "#get an overview of the persons that are likely to be classified in a wrong way (from last epoch)\n",
    "df_result = pd.DataFrame()\n",
    "for j in range(number_epochs):\n",
    "    df_result[\"epoch\"] = j\n",
    "    print(\"epoch\", j)\n",
    "    dfOfEpoch = dfWrong[dfWrong['testEpochNo']==j]\n",
    "    result2 = dfOfEpoch.groupby('personID').size()\n",
    "    #print(result2)\n",
    "    #print(result2.index.tolist())\n",
    "\n",
    "    list_index = result2.index.tolist()\n",
    "    list_size= result2.values.tolist()\n",
    "    #print(list_size)\n",
    "    \n",
    "    \n",
    "    print(\"Person ID  Wrong  Total  Percentage\")\n",
    "    for i, val in enumerate(list_index):\n",
    "        lf2 = df[df['person'] ==  val].groupby('person').size()\n",
    "        lf2_val = lf2.values.tolist()\n",
    "        #print(val,\"    \", list_size[i],\"    \", lf2_val[0], \"    \", (list_size[i]/lf2_val[0]) * 100)\n",
    "        df_result[\"person_ID\"] = val\n",
    "        df_result[\"person_ID\"] = val"
   ]
  },
  {
   "cell_type": "code",
   "execution_count": 52,
   "metadata": {},
   "outputs": [
    {
     "name": "stdout",
     "output_type": "stream",
     "text": [
      "epoch 0\n"
     ]
    },
    {
     "ename": "AttributeError",
     "evalue": "'Index' object has no attribute 'apply'",
     "output_type": "error",
     "traceback": [
      "\u001b[0;31m---------------------------------------------------------------------------\u001b[0m",
      "\u001b[0;31mAttributeError\u001b[0m                            Traceback (most recent call last)",
      "Input \u001b[0;32mIn [52]\u001b[0m, in \u001b[0;36m<cell line: 3>\u001b[0;34m()\u001b[0m\n\u001b[1;32m      7\u001b[0m result2 \u001b[38;5;241m=\u001b[39m dfOfEpoch\u001b[38;5;241m.\u001b[39mgroupby(\u001b[38;5;124m'\u001b[39m\u001b[38;5;124mpersonID\u001b[39m\u001b[38;5;124m'\u001b[39m)\u001b[38;5;241m.\u001b[39msize()\n\u001b[1;32m      8\u001b[0m \u001b[38;5;66;03m#print(result2)\u001b[39;00m\n\u001b[1;32m      9\u001b[0m \u001b[38;5;66;03m#print(result2.index.tolist())\u001b[39;00m\n\u001b[0;32m---> 11\u001b[0m list_index \u001b[38;5;241m=\u001b[39m \u001b[43mresult2\u001b[49m\u001b[38;5;241;43m.\u001b[39;49m\u001b[43mindex\u001b[49m\u001b[38;5;241;43m.\u001b[39;49m\u001b[43mapply\u001b[49m(\u001b[38;5;28mlist\u001b[39m)\n\u001b[1;32m     12\u001b[0m list_size\u001b[38;5;241m=\u001b[39m result2\u001b[38;5;241m.\u001b[39mvalues\u001b[38;5;241m.\u001b[39mapply(\u001b[38;5;28mlist\u001b[39m)\n\u001b[1;32m     13\u001b[0m \u001b[38;5;66;03m#print(list_size)\u001b[39;00m\n",
      "\u001b[0;31mAttributeError\u001b[0m: 'Index' object has no attribute 'apply'"
     ]
    }
   ],
   "source": [
    "#get an overview of the persons that are likely to be classified in a wrong way (from last epoch)\n",
    "df_result = pd.DataFrame()\n",
    "for j in range(number_epochs):\n",
    "    df_result[\"epoch\"] = j\n",
    "    print(\"epoch\", j)\n",
    "    dfOfEpoch = dfWrong[dfWrong['testEpochNo']==j]\n",
    "    result2 = dfOfEpoch.groupby('personID').size()\n",
    "    #print(result2)\n",
    "    #print(result2.index.tolist())\n",
    "\n",
    "    list_index = result2.index.apply(list)\n",
    "    list_size= result2.values.apply(list)\n",
    "    #print(list_size)\n",
    "    \n",
    "    \n",
    "    print(\"Person ID  Wrong  Total  Percentage\")\n",
    "    for i, val in enumerate(list_index):\n",
    "        lf2 = df[df['person'] ==  val].groupby('person').size()\n",
    "        lf2_val = lf2.values.tolist()\n",
    "        print(val,\"    \", list_size[i],\"    \", lf2_val[0], \"    \", (list_size[i]/lf2_val[0]) * 100)\n",
    "        #df_result[\"person_ID\"] = val\n",
    "        #df_result[\"person_ID\"] = val"
   ]
  },
  {
   "cell_type": "code",
   "execution_count": 48,
   "metadata": {},
   "outputs": [
    {
     "name": "stdout",
     "output_type": "stream",
     "text": [
      "Person ID  Wrong  Total  Percentage\n",
      "B      1      315      0.31746031746031744\n",
      "E      40      962      4.158004158004158\n",
      "O      1006      1097      91.70464904284412\n",
      "P      147      963      15.264797507788161\n",
      "ZB      234      1551      15.087040618955513\n",
      "o      342      671      50.96870342771982\n",
      "p      165      190      86.8421052631579\n",
      "w      1      493      0.2028397565922921\n",
      "zb      251      1237      20.29102667744543\n"
     ]
    }
   ],
   "source": [
    "\n",
    "    "
   ]
  },
  {
   "cell_type": "code",
   "execution_count": 22,
   "metadata": {},
   "outputs": [
    {
     "data": {
      "image/png": "[encoded data removed]",
      "text/plain": [
       "<Figure size 432x288 with 1 Axes>"
      ]
     },
     "metadata": {
      "needs_background": "light"
     },
     "output_type": "display_data"
    },
    {
     "data": {
      "image/png": "[encoded data removed]",
      "text/plain": [
       "<Figure size 432x288 with 1 Axes>"
      ]
     },
     "metadata": {
      "needs_background": "light"
     },
     "output_type": "display_data"
    }
   ],
   "source": [
    "# plot loss\n",
    "plt.plot(accuracies, label='train_accuracy')\n",
    "plt.plot(losses, label='train_loss')\n",
    "plt.legend()\n",
    "plt.title('Loss')\n",
    "plt.xlabel('Epoch')\n",
    "plt.ylabel('Loss')\n",
    "plt.show()\n",
    "\n",
    "# plot accuracy\n",
    "plt.plot(test_accuracies, label='test_accuracy')\n",
    "plt.plot(test_losses, label='test_loss')\n",
    "plt.legend()\n",
    "plt.title('Accuracy')\n",
    "plt.xlabel('Epoch')\n",
    "plt.ylabel('Accuracy')\n",
    "plt.show()\n"
   ]
  },
  {
   "cell_type": "code",
   "execution_count": 24,
   "metadata": {},
   "outputs": [
    {
     "name": "stdout",
     "output_type": "stream",
     "text": [
      "[[5923  759]\n",
      " [1428 4816]]\n"
     ]
    }
   ],
   "source": [
    "cm = confusion_matrix(test_preds_list, test_class)\n",
    "print(cm)"
   ]
  },
  {
   "cell_type": "code",
   "execution_count": null,
   "metadata": {},
   "outputs": [],
   "source": []
  }
 ],
 "metadata": {
  "accelerator": "TPU",
  "colab": {
   "provenance": []
  },
  "gpuClass": "standard",
  "kernelspec": {
   "display_name": "Python 3 (ipykernel)",
   "language": "python",
   "name": "python3"
  },
  "language_info": {
   "codemirror_mode": {
    "name": "ipython",
    "version": 3
   },
   "file_extension": ".py",
   "mimetype": "text/x-python",
   "name": "python",
   "nbconvert_exporter": "python",
   "pygments_lexer": "ipython3",
   "version": "3.9.13"
  }
 },
 "nbformat": 4,
 "nbformat_minor": 4
}
